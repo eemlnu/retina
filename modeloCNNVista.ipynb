{
  "nbformat": 4,
  "nbformat_minor": 0,
  "metadata": {
    "colab": {
      "name": "modeloCNNVista.ipynb",
      "provenance": []
    },
    "kernelspec": {
      "name": "python3",
      "display_name": "Python 3"
    },
    "accelerator": "TPU"
  },
  "cells": [
    {
      "cell_type": "code",
      "metadata": {
        "id": "j1hY__UkK0Hr",
        "colab_type": "code",
        "colab": {
          "base_uri": "https://localhost:8080/",
          "height": 34
        },
        "outputId": "b5636e8d-7f15-4820-dc01-357dc778f8cc"
      },
      "source": [
        "cd /content/drive/My Drive/Vista/ODIR-5K"
      ],
      "execution_count": 22,
      "outputs": [
        {
          "output_type": "stream",
          "text": [
            "/content/drive/My Drive/Vista/ODIR-5K\n"
          ],
          "name": "stdout"
        }
      ]
    },
    {
      "cell_type": "code",
      "metadata": {
        "id": "8qsTvWpBbwJb",
        "colab_type": "code",
        "colab": {}
      },
      "source": [
        "#Importar las librerias\n",
        "import os\n",
        "\n",
        "import numpy as np\n",
        "import pandas as pd\n",
        "\n",
        "import matplotlib\n",
        "import matplotlib.pyplot as plt\n",
        "import seaborn as sns\n",
        "import glob\n",
        "\n",
        "%matplotlib inline"
      ],
      "execution_count": 23,
      "outputs": []
    },
    {
      "cell_type": "code",
      "metadata": {
        "id": "h-t6zP46b2wt",
        "colab_type": "code",
        "colab": {}
      },
      "source": [
        "#Recopilar las variables del excel\n",
        "dataset = pd.read_excel(open(\"./data.xlsx\", 'rb'), sheet_name='Sheet1')"
      ],
      "execution_count": 24,
      "outputs": []
    },
    {
      "cell_type": "code",
      "metadata": {
        "id": "jfL_wIaebxT8",
        "colab_type": "code",
        "colab": {}
      },
      "source": [
        "#Asignar identificadores a las columnas\n",
        "dataset.columns = [\"id\", 'edad', \"sexo\", \"imagenIzquierdo\", \"imagenDerecho\", \"diagnosticoIzquierdo\", \"diagnosticoDerecho\", \"normal\",\n",
        "                  \"diabetes\", \"glaucoma\", \"catarata\", \"amd\", \"hipertension\", \"miopia\", \"otro\"]"
      ],
      "execution_count": 25,
      "outputs": []
    },
    {
      "cell_type": "code",
      "metadata": {
        "id": "LzDrYK4YbzLx",
        "colab_type": "code",
        "colab": {}
      },
      "source": [
        ""
      ],
      "execution_count": null,
      "outputs": []
    },
    {
      "cell_type": "code",
      "metadata": {
        "id": "7qgtC5TFRI0P",
        "colab_type": "code",
        "colab": {}
      },
      "source": [
        "#Importar librerias para crear la CNN\n",
        "import sys\n",
        "import os\n",
        "from tensorflow.python.keras import backend as prev\n",
        "from tensorflow.python.keras.preprocessing.image import ImageDataGenerator\n",
        "from tensorflow.keras.optimizers import Adam\n",
        "from tensorflow.python.keras.models import Sequential\n",
        "from tensorflow.python.keras.layers import Dropout, Flatten, Dense, Activation\n",
        "from tensorflow.python.keras.layers import  Convolution2D, MaxPooling2D"
      ],
      "execution_count": 26,
      "outputs": []
    },
    {
      "cell_type": "code",
      "metadata": {
        "id": "XeVAe3bcRPHe",
        "colab_type": "code",
        "colab": {}
      },
      "source": [
        "prev.clear_session()"
      ],
      "execution_count": 27,
      "outputs": []
    },
    {
      "cell_type": "code",
      "metadata": {
        "id": "yCAP_enxSmhF",
        "colab_type": "code",
        "colab": {}
      },
      "source": [
        "imageSize = 80"
      ],
      "execution_count": 28,
      "outputs": []
    },
    {
      "cell_type": "code",
      "metadata": {
        "id": "wa58Xu3VYtB2",
        "colab_type": "code",
        "colab": {}
      },
      "source": [
        ""
      ],
      "execution_count": 11,
      "outputs": []
    },
    {
      "cell_type": "code",
      "metadata": {
        "id": "cR0C9djGXx-K",
        "colab_type": "code",
        "colab": {}
      },
      "source": [
        "#Declarar hiperparametros del modelo\n",
        "outputs = 8\n",
        "epocas=10\n",
        "numeroImagenes = 32\n",
        "pasosEntrenamiento = 800\n",
        "pasosValidacion = 200\n",
        "filtroConv1 = 16\n",
        "filtroConv2 = 32\n",
        "filtroConv3 = 64\n",
        "tamanoFiltro1 = (4, 4)\n",
        "tamanoFiltro2 = (3, 3)\n",
        "tamanoFiltro3 = (2, 2)\n",
        "tamanoPool = (2, 2)\n",
        "variacion = 0.02"
      ],
      "execution_count": 29,
      "outputs": []
    },
    {
      "cell_type": "code",
      "metadata": {
        "id": "jJ1t9ETVYkuz",
        "colab_type": "code",
        "colab": {}
      },
      "source": [
        "#Generar el modelo\n",
        "cnn = Sequential()\n",
        "cnn.add(Convolution2D(filtroConv1, tamanoFiltro1, padding =\"same\", input_shape=(imageSize, imageSize, 3), activation='elu'))\n",
        "cnn.add(MaxPooling2D(pool_size=tamanoPool))\n",
        "\n",
        "cnn.add(Convolution2D(filtroConv2, tamanoFiltro2, padding =\"same\"))\n",
        "cnn.add(MaxPooling2D(pool_size=tamanoPool, strides=(3,3), padding='same'))\n",
        "\n",
        "cnn.add(Convolution2D(filtroConv3, tamanoFiltro3, padding =\"same\"))\n",
        "cnn.add(MaxPooling2D(pool_size=tamanoPool, strides=(2,2), padding='same'))\n",
        "\n",
        "cnn.add(Flatten())\n",
        "cnn.add(Dense(256, activation='relu'))\n",
        "cnn.add(Dropout(0.5))\n",
        "cnn.add(Dense(outputs, activation='softmax'))\n",
        "\n",
        "cnn.compile(loss='categorical_crossentropy',\n",
        "          optimizer=Adam(lr=variacion),\n",
        "          metrics=['accuracy'])"
      ],
      "execution_count": 30,
      "outputs": []
    },
    {
      "cell_type": "code",
      "metadata": {
        "id": "ijGkicXhY_7e",
        "colab_type": "code",
        "colab": {
          "base_uri": "https://localhost:8080/",
          "height": 187
        },
        "outputId": "bb8ed570-f5c6-4080-8e1d-54e9a32855e1"
      },
      "source": [
        "cnn.layers"
      ],
      "execution_count": 18,
      "outputs": [
        {
          "output_type": "execute_result",
          "data": {
            "text/plain": [
              "[<tensorflow.python.keras.layers.convolutional.Conv2D at 0x7f9011b80128>,\n",
              " <tensorflow.python.keras.layers.pooling.MaxPooling2D at 0x7f8fa532e0b8>,\n",
              " <tensorflow.python.keras.layers.convolutional.Conv2D at 0x7f8fa52e1550>,\n",
              " <tensorflow.python.keras.layers.pooling.MaxPooling2D at 0x7f90090bc518>,\n",
              " <tensorflow.python.keras.layers.convolutional.Conv2D at 0x7f90090bc588>,\n",
              " <tensorflow.python.keras.layers.pooling.MaxPooling2D at 0x7f8fa52e4278>,\n",
              " <tensorflow.python.keras.layers.core.Flatten at 0x7f8fa52e43c8>,\n",
              " <tensorflow.python.keras.layers.core.Dense at 0x7f8fa52e40f0>,\n",
              " <tensorflow.python.keras.layers.core.Dropout at 0x7f8fa52e4da0>,\n",
              " <tensorflow.python.keras.layers.core.Dense at 0x7f8fa52ec048>]"
            ]
          },
          "metadata": {
            "tags": []
          },
          "execution_count": 18
        }
      ]
    },
    {
      "cell_type": "code",
      "metadata": {
        "id": "FNoTt-r1cVbN",
        "colab_type": "code",
        "colab": {}
      },
      "source": [
        "#Ojo normal\n",
        "def normalEye(text):\n",
        "    if 'normal' in text:\n",
        "        return 1\n",
        "    else:\n",
        "        return 0"
      ],
      "execution_count": 31,
      "outputs": []
    },
    {
      "cell_type": "code",
      "metadata": {
        "id": "PpcoQd-VcZF5",
        "colab_type": "code",
        "colab": {}
      },
      "source": [
        "#Agregar dos columnas mas.. con las retinas que son normales\n",
        "dataset['normalIzquierdo'] = dataset['diagnosticoIzquierdo'].apply(lambda diagnostico: normalEye(diagnostico))\n",
        "dataset['normalDerecho'] = dataset['diagnosticoDerecho'].apply(lambda diagnostico: normalEye(diagnostico))"
      ],
      "execution_count": 32,
      "outputs": []
    },
    {
      "cell_type": "code",
      "metadata": {
        "id": "BXzbeWk2cgWf",
        "colab_type": "code",
        "colab": {}
      },
      "source": [
        "#Clasificar en listas las imagenes de las retinas\n",
        "#Miopia\n",
        "miopiaIzquierdoList = dataset.loc[(dataset.miopia==1) & (dataset.normalIzquierdo==0)]['imagenIzquierdo'].values\n",
        "miopiaDerechoList = dataset.loc[(dataset.miopia==1) & (dataset.normalDerecho==0)]['imagenDerecho'].values\n",
        "\n",
        "#Catarata\n",
        "catarataIzquierdoList = dataset.loc[(dataset.catarata==1) & (dataset.normalIzquierdo==0)]['imagenIzquierdo'].values\n",
        "catarataDerechoList = dataset.loc[(dataset.catarata==1) & (dataset.normalDerecho==0)]['imagenDerecho'].values\n",
        "\n",
        "#Diabetes\n",
        "diabetesIzquierdoList = dataset.loc[(dataset.diabetes==1) & (dataset.normalIzquierdo==0)]['imagenIzquierdo'].values\n",
        "diabetesDerechoList = dataset.loc[(dataset.diabetes==1) & (dataset.normalDerecho==0)]['imagenDerecho'].values\n",
        "\n",
        "#Glaucoma\n",
        "glaucomaIzquierdoList = dataset.loc[(dataset.glaucoma==1) & (dataset.normalIzquierdo==0)]['imagenIzquierdo'].values\n",
        "glaucomaDerechoList = dataset.loc[(dataset.glaucoma==1) & (dataset.normalDerecho==0)]['imagenDerecho'].values\n",
        "\n",
        "#AMD\n",
        "amdIzquierdoList = dataset.loc[(dataset.amd==1) & (dataset.normalIzquierdo==0)]['imagenIzquierdo'].values\n",
        "amdDerechoList = dataset.loc[(dataset.amd==1) & (dataset.normalDerecho==0)]['imagenDerecho'].values\n",
        "\n",
        "#Hipertension\n",
        "hipertensionIzquierdoList = dataset.loc[(dataset.hipertension==1) & (dataset.normalIzquierdo==0)]['imagenIzquierdo'].values\n",
        "hipertensionDerechoList = dataset.loc[(dataset.hipertension==1) & (dataset.normalDerecho==0)]['imagenDerecho'].values\n",
        "\n",
        "#Otras enfermedades\n",
        "otroIzquierdoList = dataset.loc[(dataset.otro==1) & (dataset.normalIzquierdo==0)]['imagenIzquierdo'].values\n",
        "otroDerechoList = dataset.loc[(dataset.otro==1) & (dataset.normalDerecho==0)]['imagenDerecho'].values\n",
        "\n",
        "#Normal\n",
        "normalIzquierdoList = dataset.loc[(dataset.normal==1) & (dataset.normalIzquierdo==1)]['imagenIzquierdo'].values\n",
        "normalDerechoList = dataset.loc[(dataset.normal==1) & (dataset.normalDerecho==1)]['imagenDerecho'].values"
      ],
      "execution_count": 33,
      "outputs": []
    },
    {
      "cell_type": "code",
      "metadata": {
        "id": "uagxaBv2ciHs",
        "colab_type": "code",
        "colab": {}
      },
      "source": [
        "#Unir las listas de cada ojo con el mismo diagnostico\n",
        "miopiaList = np.concatenate((miopiaIzquierdoList, miopiaDerechoList), axis = 0)\n",
        "catarataList = np.concatenate((catarataIzquierdoList, catarataDerechoList), axis = 0)\n",
        "diabetesList = np.concatenate((diabetesIzquierdoList, diabetesDerechoList), axis = 0)\n",
        "glaucomaList = np.concatenate((glaucomaIzquierdoList, glaucomaDerechoList), axis = 0)\n",
        "amdList = np.concatenate((amdIzquierdoList, amdDerechoList), axis = 0)\n",
        "hipertensionList = np.concatenate((hipertensionIzquierdoList, hipertensionDerechoList), axis = 0)\n",
        "otroList = np.concatenate((otroIzquierdoList, otroDerechoList), axis = 0)\n",
        "normalList = np.concatenate((normalIzquierdoList, normalDerechoList), axis = 0)"
      ],
      "execution_count": 34,
      "outputs": []
    },
    {
      "cell_type": "code",
      "metadata": {
        "id": "8w6Lz0p3dBjJ",
        "colab_type": "code",
        "colab": {
          "base_uri": "https://localhost:8080/",
          "height": 153
        },
        "outputId": "3de94374-f138-4a42-ccf5-6fbdc1041ea9"
      },
      "source": [
        "print(len(miopiaList[:206]))\n",
        "print(len(catarataList))\n",
        "print(len(diabetesList))\n",
        "print(len(glaucomaList))\n",
        "print(len(amdList))\n",
        "print(len(hipertensionList))\n",
        "print(len(otroList))\n",
        "print(len(normalList))"
      ],
      "execution_count": 30,
      "outputs": [
        {
          "output_type": "stream",
          "text": [
            "206\n",
            "367\n",
            "1995\n",
            "385\n",
            "306\n",
            "206\n",
            "1482\n",
            "2275\n"
          ],
          "name": "stdout"
        }
      ]
    },
    {
      "cell_type": "code",
      "metadata": {
        "id": "9VAPzRO6cljm",
        "colab_type": "code",
        "colab": {}
      },
      "source": [
        "#Especificar la ruta relativa a la ubicacion actual.. en donde se encuentran las imagenes\n",
        "imagesTrainPath = \"./Training Images\"\n",
        "imagesTestPath = \"./Testing images\""
      ],
      "execution_count": 35,
      "outputs": []
    },
    {
      "cell_type": "code",
      "metadata": {
        "id": "kqwWfkq7co_B",
        "colab_type": "code",
        "colab": {}
      },
      "source": [
        "#Describir las 8 salidas\n",
        "from enum import Enum\n",
        "\n",
        "class Output(Enum):\n",
        "  miopia       = [1,0,0,0,0,0,0,0]\n",
        "  catarata     = [0,1,0,0,0,0,0,0]\n",
        "  diabetes     = [0,0,1,0,0,0,0,0]\n",
        "  glaucoma     = [0,0,0,1,0,0,0,0]\n",
        "  amd          = [0,0,0,0,1,0,0,0]\n",
        "  hipertension = [0,0,0,0,0,1,0,0]\n",
        "  otro         = [0,0,0,0,0,0,1,0]\n",
        "  normal       = [0,0,0,0,0,0,0,1]"
      ],
      "execution_count": 36,
      "outputs": []
    },
    {
      "cell_type": "code",
      "metadata": {
        "id": "IBJALo1kcrBd",
        "colab_type": "code",
        "colab": {}
      },
      "source": [
        "#Librerias para trabajar con las imagenes\n",
        "from PIL import Image, ImageOps\n",
        "from random import shuffle\n",
        "from tqdm import tqdm\n",
        "from numpy import asarray"
      ],
      "execution_count": 37,
      "outputs": []
    },
    {
      "cell_type": "code",
      "metadata": {
        "id": "fUEojDo5cwNr",
        "colab_type": "code",
        "colab": {}
      },
      "source": [
        "#Funcion para unir etiqueta con ruta\n",
        "def joinPathLabel(pathList, label):\n",
        "  resultList = []\n",
        "  for imageName in tqdm(pathList):\n",
        "    pathImage = imagesTrainPath+'/'+imageName\n",
        "    img = Image.open(pathImage)\n",
        "    imgResized = ImageOps.fit(img, (imageSize,imageSize), Image.ANTIALIAS)\n",
        "    resultList.append([asarray(imgResized),np.array(label)])\n",
        "  shuffle(resultList)\n",
        "  return resultList"
      ],
      "execution_count": 38,
      "outputs": []
    },
    {
      "cell_type": "code",
      "metadata": {
        "id": "ovMqGUGac2l-",
        "colab_type": "code",
        "colab": {
          "base_uri": "https://localhost:8080/",
          "height": 153
        },
        "outputId": "014c28fc-b107-49ff-e4f4-6ad01111b746"
      },
      "source": [
        "miopiaDataSet =joinPathLabel(miopiaList[:206],Output.miopia.value)\n",
        "catarataDataSet =joinPathLabel(catarataList[:206],Output.catarata.value)\n",
        "diabetesDataSet =joinPathLabel(diabetesList[:206],Output.diabetes.value)\n",
        "glaucomaDataSet =joinPathLabel(glaucomaList[:206],Output.glaucoma.value)\n",
        "amdDataSet =joinPathLabel(amdList[:206],Output.amd.value)\n",
        "hipertensionDataSet =joinPathLabel(hipertensionList[:206],Output.hipertension.value)\n",
        "otroDataSet = joinPathLabel(otroList[:206],Output.otro.value)\n",
        "normalDataSet = joinPathLabel(normalList[:206],Output.normal.value)"
      ],
      "execution_count": 39,
      "outputs": [
        {
          "output_type": "stream",
          "text": [
            "100%|██████████| 206/206 [01:46<00:00,  1.93it/s]\n",
            "100%|██████████| 206/206 [01:33<00:00,  2.20it/s]\n",
            "100%|██████████| 206/206 [01:28<00:00,  2.34it/s]\n",
            "100%|██████████| 206/206 [01:29<00:00,  2.31it/s]\n",
            "100%|██████████| 206/206 [01:17<00:00,  2.67it/s]\n",
            "100%|██████████| 206/206 [01:17<00:00,  2.68it/s]\n",
            "100%|██████████| 206/206 [00:53<00:00,  3.82it/s]\n",
            "100%|██████████| 206/206 [01:24<00:00,  2.44it/s]\n"
          ],
          "name": "stderr"
        }
      ]
    },
    {
      "cell_type": "code",
      "metadata": {
        "id": "H4O6sNY4doSi",
        "colab_type": "code",
        "colab": {}
      },
      "source": [
        "trainDataSet = miopiaDataSet + catarataDataSet + diabetesDataSet + glaucomaDataSet + amdDataSet + hipertensionDataSet + otroDataSet + normalDataSet"
      ],
      "execution_count": 40,
      "outputs": []
    },
    {
      "cell_type": "code",
      "metadata": {
        "id": "rVliSpqFpBX4",
        "colab_type": "code",
        "colab": {}
      },
      "source": [
        "inputsModel = np.array([i[0] for i in trainDataSet]).reshape(-1,imageSize,imageSize,3)\n",
        "outputsModel = np.array([i[1] for i in trainDataSet])"
      ],
      "execution_count": 42,
      "outputs": []
    },
    {
      "cell_type": "code",
      "metadata": {
        "id": "oikTLGs4pGjU",
        "colab_type": "code",
        "colab": {}
      },
      "source": [
        "from sklearn.model_selection import train_test_split\n",
        "input_train, input_test, output_train, output_test = train_test_split(inputsModel, outputsModel, test_size=0.2, random_state=42,stratify=outputsModel)"
      ],
      "execution_count": 43,
      "outputs": []
    },
    {
      "cell_type": "code",
      "metadata": {
        "id": "Zxw5tfufpLjn",
        "colab_type": "code",
        "colab": {}
      },
      "source": [
        "cnn.fit(input_train, output_train,\n",
        "                  batch_size=numeroImagenes,\n",
        "                  epochs=epocas,\n",
        "                  verbose=1,\n",
        "                  validation_data=(input_test, output_test))"
      ],
      "execution_count": null,
      "outputs": []
    },
    {
      "cell_type": "code",
      "metadata": {
        "id": "PydY9D9ypXjl",
        "colab_type": "code",
        "colab": {}
      },
      "source": [
        "target_dir = './modelo/'\n",
        "if not os.path.exists(target_dir):\n",
        "  os.mkdir(target_dir)\n",
        "cnn.save('./modelo/modeloFinal.h5')\n",
        "cnn.save_weights('./modelo/pesosFinal.h5')"
      ],
      "execution_count": 45,
      "outputs": []
    },
    {
      "cell_type": "code",
      "metadata": {
        "id": "GJtwBQbTuAA0",
        "colab_type": "code",
        "colab": {}
      },
      "source": [
        ""
      ],
      "execution_count": null,
      "outputs": []
    },
    {
      "cell_type": "markdown",
      "metadata": {
        "id": "Uqc3Rzm1uDhY",
        "colab_type": "text"
      },
      "source": [
        "**Correr el modelo**"
      ]
    },
    {
      "cell_type": "code",
      "metadata": {
        "id": "--LLeYNduLOl",
        "colab_type": "code",
        "colab": {}
      },
      "source": [
        "#Importar librerias para ejecutarlo\n",
        "import tensorflow as tf\n",
        "import numpy as np\n",
        "from keras.preprocessing.image import load_img, array_to_img\n"
      ],
      "execution_count": 50,
      "outputs": []
    },
    {
      "cell_type": "code",
      "metadata": {
        "id": "7HQbpSXYxjmg",
        "colab_type": "code",
        "colab": {}
      },
      "source": [
        ""
      ],
      "execution_count": null,
      "outputs": []
    },
    {
      "cell_type": "code",
      "metadata": {
        "id": "A_nBbXJhuTs4",
        "colab_type": "code",
        "colab": {}
      },
      "source": [
        "longitud, altura = 80, 80\n",
        "modelo = './modelo/modeloFinal.h5'\n",
        "pesos_modelo = './modelo/pesosFinal.h5'\n",
        "cnn2 = tf.keras.models.load_model(modelo)\n",
        "cnn2.load_weights(pesos_modelo)"
      ],
      "execution_count": 64,
      "outputs": []
    },
    {
      "cell_type": "code",
      "metadata": {
        "id": "qcG_ch1Subi6",
        "colab_type": "code",
        "colab": {}
      },
      "source": [
        "def clasificaRetina(x):\n",
        "  #Cargar imagen\n",
        "  x = np.expand_dims(x, axis=0)\n",
        "  array = cnn2.predict(x)\n",
        "  resultado = array[0]\n",
        "  print(resultado)\n",
        "  resp = np.argmax(resultado)\n",
        "  \n",
        "  if resp == 0:\n",
        "    print(\"Respuesta = Miopia\")\n",
        "  elif resp == 1:\n",
        "    print(\"Respuesta = Catarata\")\n",
        "  elif resp == 2:\n",
        "    print(\"Respuesta = Diabetes\")\n",
        "  elif resp == 3:\n",
        "    print(\"Respuesta = Glaucoma\")\n",
        "  elif resp == 4:\n",
        "    print(\"Respuesta = AMD\")\n",
        "  elif resp == 5:\n",
        "    print(\"Respuesta = Hipertension\")\n",
        "  elif resp == 6:\n",
        "    print(\"Respuesta = Otro\")\n",
        "  elif resp == 7:\n",
        "    print(\"Respuesta = Normal\")"
      ],
      "execution_count": 76,
      "outputs": []
    },
    {
      "cell_type": "code",
      "metadata": {
        "id": "2E2AwP-kxxiw",
        "colab_type": "code",
        "colab": {
          "base_uri": "https://localhost:8080/",
          "height": 34
        },
        "outputId": "1c31ea6b-7fb1-485d-9cde-bf73ae82c4d4"
      },
      "source": [
        "clasificaRetina(input_test[30])"
      ],
      "execution_count": 75,
      "outputs": [
        {
          "output_type": "stream",
          "text": [
            "Respuesta = Miopia\n"
          ],
          "name": "stdout"
        }
      ]
    },
    {
      "cell_type": "code",
      "metadata": {
        "id": "dToxZmYSzQJk",
        "colab_type": "code",
        "colab": {}
      },
      "source": [
        ""
      ],
      "execution_count": null,
      "outputs": []
    },
    {
      "cell_type": "code",
      "metadata": {
        "id": "UBL-Zk0xzAeo",
        "colab_type": "code",
        "colab": {
          "base_uri": "https://localhost:8080/",
          "height": 34
        },
        "outputId": "6069fb22-16bc-45f9-81a0-e995a3344b85"
      },
      "source": [
        "output_test[30]"
      ],
      "execution_count": 72,
      "outputs": [
        {
          "output_type": "execute_result",
          "data": {
            "text/plain": [
              "array([1, 0, 0, 0, 0, 0, 0, 0])"
            ]
          },
          "metadata": {
            "tags": []
          },
          "execution_count": 72
        }
      ]
    },
    {
      "cell_type": "code",
      "metadata": {
        "id": "xOuUc_Uu0SSj",
        "colab_type": "code",
        "colab": {}
      },
      "source": [
        "  # miopia       = [1,0,0,0,0,0,0,0]\n",
        "  # catarata     = [0,1,0,0,0,0,0,0]\n",
        "  # diabetes     = [0,0,1,0,0,0,0,0]\n",
        "  # glaucoma     = [0,0,0,1,0,0,0,0]\n",
        "  # amd          = [0,0,0,0,1,0,0,0]\n",
        "  # hipertension = [0,0,0,0,0,1,0,0]\n",
        "  # otro         = [0,0,0,0,0,0,1,0]\n",
        "  # normal       = [0,0,0,0,0,0,0,1]"
      ],
      "execution_count": null,
      "outputs": []
    }
  ]
}